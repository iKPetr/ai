{
  "nbformat": 4,
  "nbformat_minor": 0,
  "metadata": {
    "colab": {
      "name": "Untitled21.ipynb",
      "provenance": []
    },
    "kernelspec": {
      "name": "python3",
      "display_name": "Python 3"
    }
  },
  "cells": [
    {
      "cell_type": "code",
      "metadata": {
        "id": "xod7nmk1umRB",
        "colab_type": "code",
        "colab": {
          "base_uri": "https://localhost:8080/",
          "height": 269
        },
        "outputId": "6578d6a6-1c79-4aca-f299-fe9f1720ed9f"
      },
      "source": [
        "import torch\n",
        "import matplotlib.pyplot as plt\n",
        "\n",
        "x = torch.tensor([[2.0],[4.0],[6.0]])\n",
        "y = torch.tensor([[3.0],[2.0],[3.0]])\n",
        "\n",
        "plt.scatter(x.numpy(), y.numpy(), c='g', s=150, alpha=0.8, label='train')\n",
        "plt.legend(loc='upper left')\n",
        "# plt.ylim установим y-пределы текущих осей.\n",
        "plt.ylim((1, 4))\n",
        "plt.show()\n"
      ],
      "execution_count": 3,
      "outputs": [
        {
          "output_type": "display_data",
          "data": {
            "image/png": "[encoded data removed]",
            "text/plain": [
              "<Figure size 432x288 with 1 Axes>"
            ]
          },
          "metadata": {
            "tags": []
          }
        }
      ]
    }
  ]
}