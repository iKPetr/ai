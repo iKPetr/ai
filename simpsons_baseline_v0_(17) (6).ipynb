{
  "nbformat": 4,
  "nbformat_minor": 0,
  "metadata": {
    "colab": {
      "name": "simpsons_baseline_v0_(17).ipynb",
      "version": "0.3.2",
      "provenance": [],
      "collapsed_sections": [],
      "toc_visible": true
    },
    "kernelspec": {
      "name": "python3",
      "display_name": "Python 3"
    },
    "accelerator": "GPU"
  },
  "cells": [
    {
      "cell_type": "markdown",
      "metadata": {
        "id": "fQlDjKcWcb1I",
        "colab_type": "text"
      },
      "source": [
        "\n",
        "\n",
        "## **Физтех-Школа Прикладной математики и информатики (ФПМИ) МФТИ**"
      ]
    },
    {
      "cell_type": "markdown",
      "metadata": {
        "id": "Xw7YkEefehWo",
        "colab_type": "text"
      },
      "source": [
        "# Путешествие по Спрингфилду.\n",
        "\n",
        "\n",
        "Сегодня вам предстоить помочь телекомпании FOX  в обработке их контента. Как вы знаете сериал Симсоны идет на телеэкранах более 25 лет и за это время скопилось очень много видео материала. Персоонажи менялись вместе с изменяющимися графическими технологиями   и Гомер 2018 не очень похож на Гомера 1989. Нашей задачей будет научиться классифицировать персонажей проживающих в Спрингфилде. Думаю, что нет смысла представлять каждого из них в отдельности.\n",
        "\n",
        "\n",
        "\n",
        " ![alt text](https://vignette.wikia.nocookie.net/simpsons/images/5/5a/Spider_fat_piglet.png/revision/latest/scale-to-width-down/640?cb=20111118140828)\n",
        "\n"
      ]
    },
    {
      "cell_type": "markdown",
      "metadata": {
        "id": "oG47vhLxKNln",
        "colab_type": "text"
      },
      "source": [
        "### Установка зависимостей"
      ]
    },
    {
      "cell_type": "code",
      "metadata": {
        "id": "_ITX8q-BMkKu",
        "colab_type": "code",
        "outputId": "f20c8806-6652-42ef-a88d-1a5ad1209e02",
        "colab": {
          "base_uri": "https://localhost:8080/",
          "height": 139
        }
      },
      "source": [
        "# https://www.asozykin.ru/deep_learning/2019/02/18/Colab-Linux-Commands.html - немного информации о colab\n",
        "# pip install -U - обновление пакета(ов)\n",
        "# команды Linux должны начинаться с восклицательного знака (!)\n",
        "# torchvision - Пакет состоит из популярных наборов данных, моделей архитектуры\n",
        "#               и инструментов преобразования изображений для компьютерного зрения.\n",
        "# torch - реализует основную структуру данных библиотеки — n-мерный тензор, а также базовые методы для работы с ним\n",
        "# Для установки нескольких пакетов в командной строке просто передайте их как список с разделителями-пробелами\n",
        "!pip install -U torch torchvision\n",
        "#Находит пакет и показывает данные о нем\n",
        "# !pip search Pillow"
      ],
      "execution_count": 0,
      "outputs": [
        {
          "output_type": "stream",
          "text": [
            "Requirement already up-to-date: torch in /usr/local/lib/python3.6/dist-packages (1.1.0)\n",
            "Requirement already up-to-date: torchvision in /usr/local/lib/python3.6/dist-packages (0.3.0)\n",
            "Requirement already satisfied, skipping upgrade: numpy in /usr/local/lib/python3.6/dist-packages (from torch) (1.16.4)\n",
            "Requirement already satisfied, skipping upgrade: six in /usr/local/lib/python3.6/dist-packages (from torchvision) (1.12.0)\n",
            "Requirement already satisfied, skipping upgrade: pillow>=4.1.1 in /usr/local/lib/python3.6/dist-packages (from torchvision) (4.3.0)\n",
            "Requirement already satisfied, skipping upgrade: olefile in /usr/local/lib/python3.6/dist-packages (from pillow>=4.1.1->torchvision) (0.46)\n"
          ],
          "name": "stdout"
        }
      ]
    },
    {
      "cell_type": "code",
      "metadata": {
        "id": "W-YekKLfK-3M",
        "colab_type": "code",
        "colab": {}
      },
      "source": [
        "# установка подходящей версии torch\n",
        "\n",
        "# Конструкция from… import позволит указать напрямую, на какие определения нужно ссылаться\n",
        "# os.path  реализует некоторые полезные функции для работы с путями.\n",
        "# os.path.exists(path) - возвращает True, если path указывает на существующий путь или дескриптор открытого файла\n",
        "from os.path import exists\n",
        "# wheel - альтернативный способ распространения пакетов Python https://pypi.org/project/wheel/\n",
        "# wheel.pep425tags - Создание и работа с тегами совместимости PEP 425. https://www.kite.com/python/docs/wheel.pep425tags\n",
        "# get_abbr_impl - Возвращает сокращенное имя реализации.\n",
        "# get_impl_ver - Возврат версии реализации.\n",
        "# get_abi_tag = Возвращает тег ABI на основе SOABI (если доступно) или эмулировать SOABI (CPython 2, PyPy).\n",
        "# PEP - руководство по написанию кода на Python\n",
        "from wheel.pep425tags import get_abbr_impl, get_impl_ver, get_abi_tag\n",
        "# .format - подставляет в строку несколько данных https://pythonworld.ru/osnovy/formatirovanie-strok-metod-format.html\n",
        "platform = '{}{}-{}'.format(get_abbr_impl(), get_impl_ver(), get_abi_tag())\n",
        "# утилита ldconfig, создает необходимые связки и формирует кэш динамических библиотек установленных в вашем Линуксе.\n",
        "# ldconfig -p какие-же библиотеки в данный момент находятся в кэше\n",
        "# утилита grep, в основном используется для поиска строк, соответствующих строке в тексте или содержимому файлов\n",
        "# есть ли у Вас библиотеки от пакета mysql = ldconfig -p | grep mysql\n",
        "# | Вертикальная черта служит для перенаправления ввода \"конвеера\", таким образом, \n",
        "#   что вывод предыдущей команды (до черты) служит входными данными для следующей после неё команды.\n",
        "# Утилиту sed называют потоковым текстовым редактором, получает входной поток \n",
        "#         (обычно файл) построчно, редактирует каждую строку согласно правилам \n",
        "#           http://aidalinux.ru/w/Sed  http://citforum.ru/operating_systems/articles/tut_6.shtml\n",
        "# Опция -e --expression=набор_команд, один из способов выполнения нескольких команд - применение опции -e\n",
        "#         в данном случае -е можно было не использовать, т.к. команда у нас одна\n",
        "# Команда s заменяет ОБРАЗЕЦ на ЗАМЕНУ\n",
        "# !echo hell | sed 's/./R/' #Rell один символ (первый) заменить на R\n",
        "# !echo hell | sed 's/.*/R/' #R все символы заменить на R\n",
        "# !echo wordmy | sed 's/.*rd/R/' # Rmy, заменить все до \".*rd\" (rd включая) на R\n",
        "# !echo he.ll. | sed 's/\\./R/' #heRll. точку(первую найденную) заменить на R\n",
        "# !echo .mihe.ll | sed 's/.*\\./R/' #Rll все символы до последней точку заменить на R\n",
        "# !echo  Thhhhell1-hell2 | sed 's/.*e/R/' #Rll2 все символы до последней е(включая) заменить на R\n",
        "# !echo  Thhhhell1 he | sed 's/h*e/R/' #TRll1 he любое количество h сразу найденных между h и e (he,hhe,hhhe) до е(включая) заменить на R\n",
        "# !echo hell | sed 's/[a-z]/R/' #Rell заменяет первый найденных символ из [..]  на R\n",
        "# !echo hell8 hell7 | sed 's/[a-z]*/R/' #R8 hell7 заменяет все буквы в начале на R (8hell - не заменил бы)\n",
        "# !echo he1ll | sed 's/[a-z][a-z][a-z]/R/' #he1ll ничего не заменит, т.к. нет 3х подряд разных букв\n",
        "# !echo 8hell-hell8 | sed 's/[a-z]*-[a-z]*/R/' #8R8 ищет любые сиволы между \"-\" и заменяет их на R\n",
        "# \\(, \\) - для обработки части ОБРАЗЦА, применяются для запоминания части регулярного выражения.\n",
        "# !echo abc12 | sed 's/\\([a-z]\\)/R/' # Tbc12 ищет образец, т.е. любой символ и заменяет его на R\n",
        "# !echo abc123 | sed 's/\\([a-z]\\)/\\1 - /' #a - bc123  запомним первый образец и выведем его\n",
        "# !echo abc123 | sed 's/\\([a-z]*\\)/\\1 - /' #abc - 123 найти любую последовательность символов с начала текста (нашел abc)\n",
        "# !echo 1abc123 a2 | sed 's/\\([a-z]*\\)/\\1 - /' #- 1abc123 a2 ничего не найдет\n",
        "# !echo abTbc 123 | sed 's/\\([a-z]*\\)\\T\\([a-z]*\\)/R \\2\\1/' #R bcab 123 найти любые символы между T и заменить на R, сохраняет в 2 образцах\n",
        "# !echo abTbc123.ab1.ab2 | sed 's/.*\\.\\([a-z]*\\)/cu \\1=/' #cu ab=2 заменить все до последней точки(включая) на \"cu \", после точки найти любые символы и вывести образец \\1 с сивволом =\n",
        "# !echo ab.cdRef.dg | sed 's/.*\\.\\([a-z]*\\)\\R\\([a-z]*\\)/cu \\1 \\2 /' # cu cd ef .dg - найти последовательность где после . будет символыRсимволы, и если найдет, все до . заменить на \"cu \" и вывести 2 образца.\n",
        "# !echo abT12.ab1.abTcd | sed 's/.*\\.\\([a-z]*\\)\\.\\([a-z]*\\)/cu \\1\\2/' #abT12.ab1.abTcd пример\n",
        "# !echo abT12.ab1RabTcd | sed 's/.*\\.\\([a-z]*\\)\\.\\([a-z]*\\)/cu \\1\\2/' #abT12.ab1RabTcd - не нашел выведет всю строчку\n",
        "# !echo 'rt.so.10.0' | sed 's/.*\\.\\([0-9]*\\)\\.\\([0-9]*\\)/cu \\1-\\2=/' #cu 10-0= пример\n",
        "# 's/.*\\.\\([0-9]*\\)\\.\\([0-9]*\\)$/cu\\1\\2/' #найти точку, так что бы после неё были символы.сиволы $ доконца текста, если найдется заменить на cu и вывести 1 образец 2 образец\n",
        "cuda_output = !ldconfig -p|grep cudart.so|sed -e 's/.*\\.\\([0-9]*\\)\\.\\([0-9]*\\)$/cu\\1\\2/'\n",
        "# A = Y if X else Z выполнится выражение Y, если X истинно, в противном случае выполнится Z\n",
        "accelerator = cuda_output[0] if exists('/dev/nvidia0') else 'cpu'\n",
        "\n",
        "# {} подстановка параметра\n",
        "# -q = --quiet значит тихая установка\n",
        "# .whl содержат python-пакет и необходимые метаданные https://habr.com/ru/post/210450/\n",
        "!pip install -q http://download.pytorch.org/whl/{accelerator}/torch-1.1.0-{platform}-linux_x86_64.whl torchvision\n",
        "import torch"
      ],
      "execution_count": 0,
      "outputs": []
    },
    {
      "cell_type": "code",
      "metadata": {
        "id": "WWgcwKwCLBfr",
        "colab_type": "code",
        "outputId": "2be22f5c-7976-48ce-f9d9-31c1b746cb63",
        "colab": {
          "base_uri": "https://localhost:8080/",
          "height": 34
        }
      },
      "source": [
        "# we will verify that GPU is enabled for this notebook\n",
        "# мы проверим, что GPU включен для этого ноутбука\n",
        "# following should print: CUDA is available!  Training on GPU ...\n",
        "# следующее должно напечатать: CUDA is available!  Training on GPU ...\n",
        "# \n",
        "# if it prints otherwise, then you need to enable GPU: \n",
        "# если он печатает иначе, то вам нужно включить GPU: \n",
        "# from Menu > Runtime > Change Runtime Type > Hardware Accelerator > GPU\n",
        "\n",
        "import torch\n",
        "import numpy as np\n",
        "\n",
        "# Возвращает bool, указывающий, доступен ли CUDA в данный момент.\n",
        "train_on_gpu = torch.cuda.is_available()\n",
        "\n",
        "if not train_on_gpu:\n",
        "    print('CUDA is not available (НЕ доступен).  Training on CPU ...')\n",
        "else:\n",
        "    print('CUDA is available (доступен)!  Training on GPU ...')"
      ],
      "execution_count": 0,
      "outputs": [
        {
          "output_type": "stream",
          "text": [
            "CUDA is available (доступен)!  Training on GPU ...\n"
          ],
          "name": "stdout"
        }
      ]
    },
    {
      "cell_type": "code",
      "metadata": {
        "id": "MXno2OSeLF3e",
        "colab_type": "code",
        "outputId": "df3b62ab-d7b8-452e-d3f5-3932cd3f4c0e",
        "colab": {
          "base_uri": "https://localhost:8080/",
          "height": 275
        }
      },
      "source": [
        "# Pillow - библиотека предоставляет поддержку при открытии,управлении и сохранении многих форматов изображения.\n",
        "# нам необходима версия pillow  5.3.0\n",
        "# удалим старую версию и установим новую\n",
        "# pip uninstall документация https://pip.pypa.io/en/stable/reference/pip_uninstall\n",
        "# Параметр \"-y\" не запрашивайте подтверждение удаления удаления.\n",
        "!pip uninstall -y Pillow\n",
        "# == Установка определенной версии\n",
        "!pip install Pillow==5.3.0\n",
        "import PIL\n",
        "# PIL документация https://pillow.readthedocs.io/en/stable/deprecations.html\n",
        "# PIL.PILLOW_VERSION является устаревшим и будет удален в следующем выпуске. Вместо того, чтобы использовать __version__ \n",
        "print(PIL.PILLOW_VERSION)\n",
        "# здесь должна быть версия 5.3.0. если это не так перехгрузите данный ноутбук:\n",
        "# Menu > Runtime > Restart Runtime"
      ],
      "execution_count": 0,
      "outputs": [
        {
          "output_type": "stream",
          "text": [
            "Uninstalling Pillow-4.3.0:\n",
            "  Successfully uninstalled Pillow-4.3.0\n",
            "Collecting Pillow==5.3.0\n",
            "\u001b[?25l  Downloading https://files.pythonhosted.org/packages/62/94/5430ebaa83f91cc7a9f687ff5238e26164a779cca2ef9903232268b0a318/Pillow-5.3.0-cp36-cp36m-manylinux1_x86_64.whl (2.0MB)\n",
            "\u001b[K     |████████████████████████████████| 2.0MB 3.3MB/s \n",
            "\u001b[31mERROR: albumentations 0.1.12 has requirement imgaug<0.2.7,>=0.2.5, but you'll have imgaug 0.2.9 which is incompatible.\u001b[0m\n",
            "\u001b[?25hInstalling collected packages: Pillow\n",
            "Successfully installed Pillow-5.3.0\n"
          ],
          "name": "stdout"
        },
        {
          "output_type": "display_data",
          "data": {
            "application/vnd.colab-display-data+json": {
              "pip_warning": {
                "packages": [
                  "PIL"
                ]
              }
            }
          },
          "metadata": {
            "tags": []
          }
        },
        {
          "output_type": "stream",
          "text": [
            "4.3.0\n"
          ],
          "name": "stdout"
        }
      ]
    },
    {
      "cell_type": "markdown",
      "metadata": {
        "id": "TTQXgo_oYDx8",
        "colab_type": "text"
      },
      "source": [
        ""
      ]
    },
    {
      "cell_type": "code",
      "metadata": {
        "id": "xA3o2xC3MlMI",
        "colab_type": "code",
        "outputId": "abe20aa1-02f8-4462-8165-11d5d3edb1fd",
        "colab": {
          "base_uri": "https://localhost:8080/",
          "height": 122
        }
      },
      "source": [
        "# справка по встроенной функции help(len)\n",
        "# import google.colab\n",
        "# help(google.colab) # справка по подключаемому модулю\n",
        "# help(google.colab.drive) # справка по объекту из подключаемого модуля\n",
        "\n",
        "# google.colab - специфическая интеграция с Google Диском.\n",
        "from google.colab import drive\n",
        "# mount(mountpoint, force_remount=False, timeout_ms=15000) Смонтируйте Google Диск по указанному пути к точке монтирования.\n",
        "drive.mount('/content/gdrive/')\n",
        "\n",
        "# pwd # посмотреть текущую папку Linux\n",
        "# drive.mount('/gdrive')\n",
        "# cd /gdrive  # делает указанную папку текущей ! ставить не нужно"
      ],
      "execution_count": 0,
      "outputs": [
        {
          "output_type": "stream",
          "text": [
            "Go to this URL in a browser: https://accounts.google.com/o/oauth2/auth?client_id=947318989803-6bn6qk8qdgf4n4g3pfee6491hc0brc4i.apps.googleusercontent.com&redirect_uri=urn%3Aietf%3Awg%3Aoauth%3A2.0%3Aoob&scope=email%20https%3A%2F%2Fwww.googleapis.com%2Fauth%2Fdocs.test%20https%3A%2F%2Fwww.googleapis.com%2Fauth%2Fdrive%20https%3A%2F%2Fwww.googleapis.com%2Fauth%2Fdrive.photos.readonly%20https%3A%2F%2Fwww.googleapis.com%2Fauth%2Fpeopleapi.readonly&response_type=code\n",
            "\n",
            "Enter your authorization code:\n",
            "··········\n",
            "Mounted at /content/gdrive/\n"
          ],
          "name": "stdout"
        }
      ]
    },
    {
      "cell_type": "code",
      "metadata": {
        "id": "7E12eeETWZEi",
        "colab_type": "code",
        "outputId": "d26d2dc3-7486-46e0-e3f9-69768b6d0e2b",
        "colab": {
          "base_uri": "https://localhost:8080/",
          "height": 34
        }
      },
      "source": [
        "pwd"
      ],
      "execution_count": 0,
      "outputs": [
        {
          "output_type": "execute_result",
          "data": {
            "text/plain": [
              "'/content'"
            ]
          },
          "metadata": {
            "tags": []
          },
          "execution_count": 11
        }
      ]
    },
    {
      "cell_type": "code",
      "metadata": {
        "id": "kRGt7YicMxYI",
        "colab_type": "code",
        "colab": {}
      },
      "source": [
        "# !unzip # Утилита для распаковки ZIP https://losst.ru/kak-raspakovat-zip-v-linux\n",
        "# -q - выводить минимум информации\n",
        "# !unzip архив -d папка в которую будет распаковываться архив\n",
        "# !unzip  /content/gdrive/My\\ Drive/text.zip -d tx1 # пример\n",
        "# '\\ ' косая черта пробел - это по сути символ пробела\n",
        "!unzip -q /content/gdrive/My\\ Drive/simpsons/data/dataset.zip -d train\n",
        "!unzip -q /content/gdrive/My\\ Drive/simpsons/data/testset.zip -d test"
      ],
      "execution_count": 0,
      "outputs": []
    },
    {
      "cell_type": "code",
      "metadata": {
        "id": "D2dg3IHMMo-s",
        "colab_type": "code",
        "outputId": "63e16513-9542-4d0f-f851-1b2c5b5baf82",
        "colab": {
          "base_uri": "https://localhost:8080/",
          "height": 51
        }
      },
      "source": [
        "# !ls без пути выдает содержимое текущего каталога  https://losst.ru/komanda-ls-linux\n",
        "!ls\n",
        "# !ls train содержание каталога train\n",
        "!ls train"
      ],
      "execution_count": 0,
      "outputs": [
        {
          "output_type": "stream",
          "text": [
            "gdrive\tsample_data  test  train\n",
            "__MACOSX  simpsons_dataset\n"
          ],
          "name": "stdout"
        }
      ]
    },
    {
      "cell_type": "code",
      "metadata": {
        "id": "GvWhlkiRMxih",
        "colab_type": "code",
        "outputId": "4bd112e6-a0d0-41d2-ce15-127c3d3d29f1",
        "colab": {
          "base_uri": "https://localhost:8080/",
          "height": 323
        }
      },
      "source": [
        "# утилита nvidia-smi (NVIDIA System Management Interface), входит в комплект драйверов производимых компанией NVIDIA \n",
        "# https://andreyv.ru/nvidia-smi-poleznye-komandy.html\n",
        "!nvidia-smi\n",
        "# PyTorch — современная библиотека глубокого обучения, развивающаяся под крылом Facebook\n",
        "# https://pytorch.org/docs/stable/index.html\n",
        "import torch\n",
        "# Возвращает bool, указывающий, доступен ли CUDA в данный момент.\n",
        "torch.cuda.is_available()"
      ],
      "execution_count": 0,
      "outputs": [
        {
          "output_type": "stream",
          "text": [
            "Fri Jun 28 08:30:15 2019       \n",
            "+-----------------------------------------------------------------------------+\n",
            "| NVIDIA-SMI 418.67       Driver Version: 410.79       CUDA Version: 10.0     |\n",
            "|-------------------------------+----------------------+----------------------+\n",
            "| GPU  Name        Persistence-M| Bus-Id        Disp.A | Volatile Uncorr. ECC |\n",
            "| Fan  Temp  Perf  Pwr:Usage/Cap|         Memory-Usage | GPU-Util  Compute M. |\n",
            "|===============================+======================+======================|\n",
            "|   0  Tesla T4            Off  | 00000000:00:04.0 Off |                    0 |\n",
            "| N/A   49C    P8    16W /  70W |     10MiB / 15079MiB |      0%      Default |\n",
            "+-------------------------------+----------------------+----------------------+\n",
            "                                                                               \n",
            "+-----------------------------------------------------------------------------+\n",
            "| Processes:                                                       GPU Memory |\n",
            "|  GPU       PID   Type   Process name                             Usage      |\n",
            "|=============================================================================|\n",
            "|  No running processes found                                                 |\n",
            "+-----------------------------------------------------------------------------+\n"
          ],
          "name": "stdout"
        },
        {
          "output_type": "execute_result",
          "data": {
            "text/plain": [
              "True"
            ]
          },
          "metadata": {
            "tags": []
          },
          "execution_count": 23
        }
      ]
    },
    {
      "cell_type": "markdown",
      "metadata": {
        "id": "BD_8gK6PmgXk",
        "colab_type": "text"
      },
      "source": [
        "В нашем тесте будет 990 картнок, для которых вам будет необходимо предсказать класс."
      ]
    },
    {
      "cell_type": "code",
      "metadata": {
        "id": "262LnepSszsI",
        "colab_type": "code",
        "colab": {}
      },
      "source": [
        "# PANDAS пакет делает Python мощным инструментом для анализа данных.\n",
        "# https://habr.com/ru/post/196980/  Введение в анализ данных с помощью Pandas\n",
        "import pandas as pd\n",
        "# Series – это проиндексированный одномерный массив значений\n",
        "# DataFrame — это проиндексированный многомерный массив значений, соответственно каждый столбец DataFrame, является структурой Series.\n",
        "# read_csv - читает файл sep - разделитель\n",
        "df1 = pd.read_csv(\"gdrive/My Drive/file1.csv\",sep=\";\")\n",
        "df2 = pd.read_csv(\"gdrive/My Drive/file3.csv\",sep=\";\")\n",
        "\n",
        "\n",
        "country = ['Украина','РФ','Беларусь','РФ','РФ']\n",
        "# insert добавляет колонку в данные, где 1 индекс колонки, 2 название колонки, 3 данные колонки\n",
        "df2.insert(1,'country',country)\n",
        "# выбирает данные по условию, тип полученных данных DataFrame такой же как и самих данных\n",
        "dt = df2[df2.country == \"Украина\"]\n",
        "# добавляем DataFrame новую строку\n",
        "df2 = df2.append(dt)\n",
        "# соединяем таблицы, как в запросе, левое соединение по полю shop\n",
        "res = df2.merge(df1, 'left', on='shop')\n",
        "# сводная таблица(отчет), ['qty'] - что сводим,['country'] - какие колонки aggfunc -функция агрегации, \n",
        "# fill_value - на что заменяем пустое значение\n",
        "tab = res.pivot_table(['qty'],['country'], aggfunc='sum', fill_value = 0)\n",
        "# получить колонку по имени\n",
        "ser = df2[\"country\"]\n",
        "# показывает значения колонки\n",
        "df2[\"country\"].value_counts().plot.barh();"
      ],
      "execution_count": 0,
      "outputs": []
    },
    {
      "cell_type": "code",
      "metadata": {
        "id": "PRQwGeDwTgIA",
        "colab_type": "code",
        "colab": {}
      },
      "source": [
        "from sklearn.preprocessing import LabelEncoder\n",
        "# LabelEncoder Кодировать метки со значением от 0 до n_classes-1\n",
        "label_encoder = LabelEncoder()\n",
        "list1 = [\"а\", \"б\", \"б\", \"в\"]\n",
        "list2 = [\"а\", \"б\", \"б\", \"в\", \"в\", \"в\", \"в\"]\n",
        "# fit подготавливает данные для кодирования, ничего не возвращает\n",
        "# label_encoder.fit(list)\n",
        "# classes_ атрибут класса, содержит метки для каждого класса (доступен после кодирования)\n",
        "# array(['а', 'б', 'в'], dtype='<U1'), т.е. а=0,б=1,в=2\n",
        "# label_encoder.classes_ \n",
        "# выводит словарь {0: 'а', 1: 'б', 2: 'в'}\n",
        "# enumerate Возвращает генератор, отдающий пары счётчик-элемент для элементов указанной последовательности.\n",
        "# print(dict(enumerate(label_encoder.classes_)))\n",
        "# преобразовывает полученный массив в массив с метками, возвращает новый массив\n",
        "# array1 = label_encoder.transform(list) \n",
        "# print(array1)\n",
        "# одновремено трансформирует метки и возвращает новый массив, можно сразу подавать 2й массив для трансформации\n",
        "array1 = label_encoder.fit_transform(list1)\n",
        "array2 = label_encoder.transform(list2)\n",
        "# преобразование меток обратно в исходный массив\n",
        "array3 = label_encoder.inverse_transform(array2)"
      ],
      "execution_count": 0,
      "outputs": []
    },
    {
      "cell_type": "code",
      "metadata": {
        "id": "IXm5tpKfWdVy",
        "colab_type": "code",
        "colab": {}
      },
      "source": [
        "# про циклы https://python-scripts.com/loops-for-while\n",
        "my_list = [1, 2, 3, 4, 5]\n",
        "for i in my_list:\n",
        "    if i == 30:\n",
        "        print(\"Item found!\")\n",
        "        break\n",
        "    print(i)\n",
        "else:\n",
        "    print(\"Item not found!\")"
      ],
      "execution_count": 0,
      "outputs": []
    },
    {
      "cell_type": "code",
      "metadata": {
        "id": "naD6xsZzMxrC",
        "colab_type": "code",
        "colab": {}
      },
      "source": [
        "# Модуль pickle реализует мощный алгоритм сериализации и десериализации объектов \n",
        "# https://pythonworld.ru/moduli/modul-pickle.html\n",
        "import pickle\n",
        "import numpy as np\n",
        "# scikit-image - пакет Python для обработки изображений, который работает с массивами numpy\n",
        "# https://habr.com/ru/post/441006/ https://scikit-image.org/docs/stable/\n",
        "# Утилиты для чтения и записи изображений в различных форматах.\n",
        "from skimage import io\n",
        "# tqdm - быстрый, расширяемый progress bar для Python https://tqdm.github.io https://pythondigest.ru/view/8867/\n",
        "# tqdm_notebook - Экспериментальный виджет IPython / Jupyter Notebook с помощью tqdm!\n",
        "from tqdm import tqdm, tqdm_notebook\n",
        "# Pillow - библиотека предоставляет поддержку при открытии,управлении и сохранении многих форматов изображения.\n",
        "from PIL import Image\n",
        "# pathlib - объектно-ориентированный подход к файловым путям \n",
        "# https://docs.python.org/3/library/pathlib.html https://habr.com/ru/post/453862/\n",
        "from pathlib import Path\n",
        "\n",
        "# torchvision - Пакет состоит из популярных наборов данных, моделей архитектуры\n",
        "#               и инструментов преобразования изображений для компьютерного зрения.\n",
        "# https://pytorch.org/docs/stable/torchvision/index.html?highlight=torchvision#module-torchvision\n",
        "# https://alexanderkurakin.blogspot.com/2019/01/pytorch-data-loading-preprocessing.html\n",
        "from torchvision import transforms\n",
        "\n",
        "# multiprocessing -пакет позволяет работать с несколькими процессами \n",
        "# http://python-3.ru/page/multiprocessing https://docs.python.org/3.6/library/multiprocessing.html#module-multiprocessing\n",
        "# класс Pool, используется для параллельного выполнения функции между несколькими входами.\n",
        "from multiprocessing.pool import ThreadPool\n",
        "# Scikit-learn библиотека машинного обучения https://scikit-learn.org\n",
        "# sklearn.preprocessing - модуль для предварительной обработки включает масштабирование, центрирование, методы нормализации и т.д.\n",
        "# LabelEncoder Кодировать метки со значением от 0 до n_classes-1 ,каждой категории сопоставляет некоторое целое число\n",
        "# https://habr.com/ru/company/ods/blog/326418/ http://blog.datalytica.ru/2018/04/blog-post.html\n",
        "from sklearn.preprocessing import LabelEncoder\n",
        "\n",
        "# DataLoader Загрузчик данных. Объединяет набор данных и сэмплер и предоставляет итераторы одного или нескольких процессов над набором данных.\n",
        "from torch.utils.data import Dataset, DataLoader\n",
        "import torch.nn as nn\n",
        "\n",
        "# matplotlib - библиотека, которая позволяет создавать графики. https://pyprog.pro/mpl/mpl_short_guide.html\n",
        "# Способы задания цвета в Matplotlib https://jenyay.net/Matplotlib/Colors\n",
        "# matplotlib.colors Модуль для преобразования чисел или цветовых аргументов в RGB или RGBA\n",
        "#              https://het.as.utexas.edu/HET/Software/Matplotlib/api/colors_api.html#module-matplotlib.colors\n",
        "#              https://matplotlib.org/3.1.0/api/colors_api.html\n",
        "# matplotlib.pyplot в основном предназначен для интерактивных графиков и простых случаев генерация программных графиков:\n",
        "from matplotlib import colors, pyplot as plt\n",
        "# %matplotlib inline указывает, что график необходимо построить все в той же ячейки\n",
        "# , но теперь он выводится как обычная картинка.\n",
        "%matplotlib inline\n",
        "\n",
        "# в sklearn не все гладко, чтобы в colab удобно выводить картинки \n",
        "# мы будем игнорировать warnings\n",
        "# warnings - Базовый класс для исключений-предупреждений https://docs.python.org/3/library/warnings.html#warnings.filterwarnings\n",
        "import warnings\n",
        "# filterwarnings Фильтр предупреждения определяет, будут ли предупреждения игнорироваться\n",
        "#             https://docs.python.org/3/library/warnings.html#warning-filter\n",
        "# action='ignore' никогда не печатайте соответствующие предупреждения\n",
        "# DeprecationWarning - Базовый класс для предупреждений об устаревших функциях, \n",
        "# когда эти предупреждения предназначены для других разработчиков Python.\n",
        "#             https://docs.python.org/3/library/exceptions.html#Warning\n",
        "warnings.filterwarnings(action='ignore', category=DeprecationWarning)\n"
      ],
      "execution_count": 0,
      "outputs": []
    },
    {
      "cell_type": "code",
      "metadata": {
        "id": "WTdzMtgJP15N",
        "colab_type": "code",
        "colab": {}
      },
      "source": [
        "# РАЗНОЕ ПРО CUDA https://pytorch.org/docs/stable/cuda.html#torch.cuda.current_device\n",
        "# torch.cuda пакет добавляет поддержку типов тензоров CUDA\n",
        "# torch.cuda.is_available() #поддерживается ли CUDA\n",
        "# torch.cuda.current_blas_handle() # возвращает указатель на текущую устройств обработки\n",
        "# torch.cuda.current_device() # Возвращает индекс текущего выбранного устройства.\n",
        "# torch.cuda.device_count() # Возвращает количество доступных графических процессоров.\n",
        "# torch.cuda.get_device_name() # Возвращает имя устройства\n",
        "# uniform_(from=0, to=1) Создает тензор с числами, выбранными из непрерывного равномерного распределения\n",
        "# x = torch.FloatTensor(5, 5, 5).uniform_()\n",
        "\n",
        "# разные режимы датасета \n",
        "# train - данные для тренировки\n",
        "# val (валидация) - данные для подбора гиперпараметров\n",
        "# test - данные для окончательного тестиования\n",
        "DATA_MODES = ['train', 'val', 'test']\n",
        "# все изображения будут масштабированы к размеру 224x224 px\n",
        "RESCALE_SIZE = 224\n",
        "# работаем на видеокарте\n",
        "# torch.device('cuda') устройство на котором будет производится расчет тензоров ('cpu' or 'cuda')\n",
        "DEVICE = torch.device(\"cuda\")"
      ],
      "execution_count": 0,
      "outputs": []
    },
    {
      "cell_type": "markdown",
      "metadata": {
        "id": "HYFeKUzfy572",
        "colab_type": "text"
      },
      "source": [
        "https://jhui.github.io/2018/02/09/PyTorch-Data-loading-preprocess_torchvision/\n"
      ]
    },
    {
      "cell_type": "markdown",
      "metadata": {
        "id": "8ecnkB2xK1aE",
        "colab_type": "text"
      },
      "source": [
        "Ниже мы исспользуем враппер над датасетом для удобной работы. Вам стоит понимать, что происходит с LabelEncoder и  с torch.Transformation. \n",
        "\n",
        "ToTensor конвертирует  PIL Image с параметрами в диапазоне [0, 255] (как все пиксели) в FloatTensor размера (C x H x W) [0,1] , затем производится масштабирование:\n",
        "$input = \\frac{input - \\mu}{\\text{standard deviation}} \\\\$,      константы - средние и дисперсии по каналам на основе ImageNet\n",
        "\n",
        "\n",
        "Стоит также отметить, что мы переопределяем метод __getitem__ для удобства работы с данной структурой данных.\n",
        " Также используется LabelEncoder для преобразования строковых меток классов в id и обратно. В описании датасета указано, что картинки разного размера, так как брались напрямую с видео, поэтому следуем привести их к одному размер (это делает метод  _prepare_sample) "
      ]
    },
    {
      "cell_type": "code",
      "metadata": {
        "id": "cj32U5iTQUe4",
        "colab_type": "code",
        "colab": {}
      },
      "source": [
        "# Про форматирование строк https://shultais.education/blog/python-f-strings\n",
        "# a1 = \"hello\"; a2=\"world\"; a3=2.12345; p1 = [1,2,3]\n",
        "# print(\"%s %s\" %(a1,a2))\n",
        "# print(\"%(name1)s %(name2)s\" %{\"name1\":a1,\"name2\":a2})\n",
        "# print(\"{} {}\".format(a1,a2))\n",
        "# print(\"{name1} {name2}\".format(name1=a1,name2=a2))\n",
        "# print(f\"{a1} {a2} {a3:.3f} {p1[0]}\")\n",
        "\n",
        "# x = \"Mike\"\n",
        "# print(dir(x)) # посмотреть методы и переменные объекта\n",
        "# немного про классы https://python-scripts.com/python-class и https://devpractice.ru/python-lesson-14-classes-and-objects/\n",
        "# немного о Dataset https://alexanderkurakin.blogspot.com/2019/01/pytorch-data-loading-preprocessing.html\n",
        "# torch.utils.data.Dataset - абстрактный класс, представляющий набор данных. \n",
        "# Ваш пользовательский набор данных должен наследовать Dataset и переопределять следующие методы:\n",
        "# __len__, чтобы len(dataset) возвращал размер набора данных.\n",
        "# __getitem__ для поддержки индексации, так что dataset[i] может использоваться для получения i-го экземпляра\n",
        "class SimpsonsDataset(Dataset):\n",
        "    \"\"\"\n",
        "    Датасет с картинками, который паралельно подгружает их из папок\n",
        "    производит скалирование и превращение в торчевые тензоры\n",
        "    \"\"\"\n",
        "    def __init__(self, files, mode):\n",
        "        # super запускает родительский конструктор http://fkn.ktu10.com/?q=node/4087\n",
        "        # class A(object): # пример\n",
        "        #   def __init__(self):\n",
        "        #     print('конструктор класса A')\n",
        "        # class B(A):\n",
        "        #   def __init__(self):\n",
        "        #     super().__init__()\n",
        "        #     print('конструктор класса B')\n",
        "        # cl1 = B()\n",
        "        super().__init__()\n",
        "        # список файлов для загрузки (зачем сортируем не понятно!)\n",
        "        self.files = sorted(files)\n",
        "        # режим работы\n",
        "        self.mode = mode\n",
        "        \n",
        "        # если имя модели не в списке моделей, то вызвать исключение\n",
        "        if self.mode not in DATA_MODES:\n",
        "            # Работа с исключениями https://devpractice.ru/python-lesson-11-work-with-exceptions/\n",
        "            # raise - вызывает исключение\n",
        "            strException = f\"<{self.mode}> is not correct; correct modes: {DATA_MODES}\"\n",
        "            try:\n",
        "              raise Exception(strException)\n",
        "            except Exception as e:\n",
        "              print(\"Exception! \" + str(e))            \n",
        "\n",
        "        # размер переданного списка файлов\n",
        "        self.len_ = len(self.files)\n",
        "        # создаем экземпляр класса для преобразования данных в метки\n",
        "        self.label_encoder = LabelEncoder()\n",
        "\n",
        "        if self.mode != 'test':\n",
        "            # self.files - у нас итерируемый элемент, по этому мы его можем обойти\n",
        "            # создаем list из названий родителей картинок (т.е. из папок)\n",
        "            self.labels = [path.parent.name for path in self.files]\n",
        "            # на базе названий родителей через fit готовим индексы для перекодирования\n",
        "            self.label_encoder.fit(self.labels)\n",
        "            # работа с файлами https://pythonworld.ru/tipy-dannyx-v-python/fajly-rabota-s-fajlami.html\n",
        "            # With ... as https://pythonworld.ru/osnovy/with-as-menedzhery-konteksta.html\n",
        "            # with ... as гарантии того, что критические функции выполнятся в любом случае.\n",
        "            # w - открытие на запись b - открытие в двоичном режиме (режимы можно совмещать)            \n",
        "            with open('label_encoder.pkl', 'wb') as le_dump_file:\n",
        "                  # Модуль pickle реализует мощный алгоритм сериализации и десериализации объектов \n",
        "                  # pickle.dump   записывает сериализованный объект в файл.\n",
        "                  pickle.dump(self.label_encoder, le_dump_file)\n",
        "                      \n",
        "    # переопределяемая функция, возвращает длинну объекта, т.е. количество картинок\n",
        "    def __len__(self):\n",
        "        return self.len_\n",
        "      \n",
        "    def load_sample(self, file):\n",
        "        image = Image.open(file)\n",
        "        image.load()\n",
        "        return image\n",
        "    \n",
        "    # переопределяемая функция, служит для возвращения объекта по индексу, \n",
        "    # т.е. передается index и нужно вернуть, как-то элемент\n",
        "    def __getitem__(self, index):\n",
        "        # для преобразования изображений в тензоры PyTorch и нормализации входа\n",
        "        transform = transforms.Compose([\n",
        "            transforms.ToTensor(),\n",
        "            transforms.Normalize([0.485, 0.456, 0.406], [0.229, 0.224, 0.225]) \n",
        "        ])\n",
        "        x = self.load_sample(self.files[index])\n",
        "        x = self._prepare_sample(x)\n",
        "        x = np.array(x / 255, dtype='float32')\n",
        "        x = transform(x)\n",
        "        if self.mode == 'test':\n",
        "            return x\n",
        "        else:\n",
        "            label = self.labels[index]\n",
        "            label_id = self.label_encoder.transform([label])\n",
        "            y = label_id.item()\n",
        "            return x, y\n",
        "        \n",
        "    def _prepare_sample(self, image):\n",
        "        image = image.resize((RESCALE_SIZE, RESCALE_SIZE))\n",
        "        return np.array(image)"
      ],
      "execution_count": 0,
      "outputs": []
    },
    {
      "cell_type": "code",
      "metadata": {
        "id": "j_odtTEzcaWH",
        "colab_type": "code",
        "colab": {}
      },
      "source": [
        "def imshow(inp, title=None, plt_ax=plt, default=False):\n",
        "    \"\"\"Imshow для тензоров\"\"\"\n",
        "    inp = inp.numpy().transpose((1, 2, 0))\n",
        "    mean = np.array([0.485, 0.456, 0.406])\n",
        "    std = np.array([0.229, 0.224, 0.225])\n",
        "    inp = std * inp + mean\n",
        "    inp = np.clip(inp, 0, 1)\n",
        "    plt_ax.imshow(inp)\n",
        "    if title is not None:\n",
        "        plt_ax.set_title(title)\n",
        "    plt_ax.grid(False)"
      ],
      "execution_count": 0,
      "outputs": []
    },
    {
      "cell_type": "code",
      "metadata": {
        "id": "SG6iQ9w18B5J",
        "colab_type": "code",
        "outputId": "8ffddcd8-d2f9-4011-c235-7ecb8ade7e3d",
        "colab": {
          "base_uri": "https://localhost:8080/",
          "height": 51
        }
      },
      "source": [
        "# https://losst.ru/put-k-fajlu-v-linux про пути в Лунукс\n",
        "# /content/train/ это полный путь от корня\n",
        "# content/train/ а тут путь считается от текущей папки (pwd - проверить текущую папку)\n",
        "# по сути это получение/инициация экземпляра класса class 'pathlib.PosixPath', а у класса есть разные функции\n",
        "TRAIN_DIR = Path('train/simpsons_dataset')\n",
        "TEST_DIR = Path('test/testset')\n",
        "# Шаблон \"**\" означает \"этот каталог и все подкаталоги - пример glob('**/*.jpg')\n",
        "# rglob('*.jpg') по сути то же самое, что и \"**\"\n",
        "# оба метода возвразают генератор\n",
        "# TRAIN_DIR.glob('**/*.jpg') == TRAIN_DIR.rglob('*.jpg')\n",
        "# sorted(list - превращаем в лист и сортируем\n",
        "train_val_files = sorted(list(TRAIN_DIR.rglob('*.jpg')))\n",
        "print(len(train_val_files))\n",
        "test_files = sorted(list(TEST_DIR.rglob('*.jpg')))\n",
        "print(len(test_files))\n"
      ],
      "execution_count": 0,
      "outputs": [
        {
          "output_type": "stream",
          "text": [
            "20933\n",
            "991\n"
          ],
          "name": "stdout"
        }
      ]
    },
    {
      "cell_type": "code",
      "metadata": {
        "id": "TmPhhKKlRyCF",
        "colab_type": "code",
        "outputId": "6b245df2-87d8-4fba-91b7-debe94f9b8b4",
        "colab": {
          "base_uri": "https://localhost:8080/",
          "height": 68
        }
      },
      "source": [
        "# train_test_split - функция служит для разбиение данных(массивов или матриц)\n",
        "# на 2 случайные последовательности, т.е. возвращает 2 списка данных\n",
        "from sklearn.model_selection import train_test_split\n",
        "\n",
        "# немного про генераторы https://younglinux.info/python/feature/generators\n",
        "# generator = [i for i in range(1,15)]\n",
        "# list = [i for i in gn] # [1, 2, 3, 4, 5, 6, 7, 8, 9, 10, 11, 12, 13, 14]\n",
        "# path.parent.name - родитель каталога и его имя, получим список из имен родителей\n",
        "train_val_labels = [path.parent.name for path in train_val_files]\n",
        "# train_test_split - https://scikit-learn.org/stable/modules/generated/sklearn.model_selection.train_test_split.html#sklearn.model_selection.train_test_split\n",
        "# train_test_split(*arrays, **options)\n",
        "# *arrays = списки, массивы numpy, разреженные матрицы scipy или фреймы данных pandas.\n",
        "# \\ - позволяет сделать разрыв строки\n",
        "# test_size размер тествой выборки, может быть от 0.0 до 1.0 или задаваться целым число, данных которые нужно вернуть\n",
        "# train_size размер тренировочной выборки, может быть от 0.0 до 1.0 или задаваться целым число, данных которые нужно вернуть\n",
        "# list1 = [i for i in range(10)] # [0, 1, 2, 3, 4, 5, 6, 7, 8, 9] \n",
        "# train, test = train_test_split(list1,test_size=2,train_size=4)\n",
        "# train [7, 4, 0, 8] test [5, 6]\n",
        "# train, test = train_test_split(list1,test_size=.2,train_size=.8)\n",
        "# train[8, 5, 4, 3, 2, 6, 7, 1] test[0, 9]\n",
        "# shuffle перемешивать данные перед разделением True\n",
        "# stratify : array-like - массив для стратификации, т.е. для каждого элемента выборки должен быть класс\n",
        "# в массиве стратификации, т.е. количество элементов массива стратификации должно равняться разделяемому массиву \n",
        "# Стратификация заключается в том, чтобы заранее поделить выборку на части (страты), \n",
        "# и при разбиении на обучение длины m и контроль длины k гарантировать, что каждая страта \n",
        "# будет поделена между обучением и контролем в той же пропорции m:k.\n",
        "# train_val_files разбиваемый массив\n",
        "# test_size=0.25 размер тестового возвращаемого массива\n",
        "# stratify=train_val_labels лейблы стратификации\n",
        "train_files, val_files = train_test_split(train_val_files, test_size=0.25, \\\n",
        "                                          stratify=train_val_labels)\n",
        "\n",
        "print(len(train_val_files))\n",
        "print(len(train_files))\n",
        "print(len(val_files))"
      ],
      "execution_count": 0,
      "outputs": [
        {
          "output_type": "stream",
          "text": [
            "20933\n",
            "15699\n",
            "5234\n"
          ],
          "name": "stdout"
        }
      ]
    },
    {
      "cell_type": "code",
      "metadata": {
        "id": "aAimOLjSQGTh",
        "colab_type": "code",
        "colab": {}
      },
      "source": [
        "val_dataset = SimpsonsDataset(val_files, mode='val')"
      ],
      "execution_count": 0,
      "outputs": []
    },
    {
      "cell_type": "code",
      "metadata": {
        "id": "DMgIbm6hRwdQ",
        "colab_type": "code",
        "colab": {}
      },
      "source": [
        "# uncomment if you have problem with pillow\n",
        "# def register_extension(id, extension): Image.EXTENSION[extension.lower()] = id.upper()\n",
        "# Image.register_extension = register_extension\n",
        "# def register_extensions(id, extensions): \n",
        "#     for extension in extensions: register_extension(id, extension)\n",
        "# Image.register_extensions = register_extensions"
      ],
      "execution_count": 0,
      "outputs": []
    },
    {
      "cell_type": "markdown",
      "metadata": {
        "id": "PmKSdyv1b7PD",
        "colab_type": "text"
      },
      "source": [
        "Давайте посмотрим на наших героев внутри датасета."
      ]
    },
    {
      "cell_type": "code",
      "metadata": {
        "id": "ltitWp3lXAZt",
        "colab_type": "code",
        "colab": {}
      },
      "source": [
        "fig, ax = plt.subplots(nrows=3, ncols=3,figsize=(8, 8), sharey=True, sharex=True)\n",
        "\n",
        "for fig_x in ax.flatten():\n",
        "    random_characters = int(np.random.uniform(0,1000))\n",
        "    im_val, label = val_dataset[random_characters]\n",
        "    img_label = \" \".join(map(lambda x: x.capitalize(),\\\n",
        "                val_dataset.label_encoder.inverse_transform([label])[0].split('_')))\n",
        "    imshow(im_val.data.cpu(), \\\n",
        "          title=img_label,plt_ax=fig_x)"
      ],
      "execution_count": 0,
      "outputs": []
    },
    {
      "cell_type": "markdown",
      "metadata": {
        "colab_type": "text",
        "id": "GpN9lSi4QVGt"
      },
      "source": [
        "Можете добавить ваши любимые сцены и классифицировать их. (веселые результаты можно кидать в чат)"
      ]
    },
    {
      "cell_type": "markdown",
      "metadata": {
        "id": "u6YcZk8vQR47",
        "colab_type": "text"
      },
      "source": [
        "### Построение нейросети\n",
        "\n",
        "Запустить данную сеть будет вашим мини-заданием на первую неделю, чтобы было проще участвовать в соревновании.\n",
        "\n",
        "Данная архитектура будет очень простой и нужна для того, чтобы установить базовое понимание и получить простенький сабмит на Kaggle\n",
        "\n",
        "<!-- Здесь вам предлагается дописать сверточную сеть глубины 4/5.  -->\n",
        "\n",
        "*Описание слоев*:\n",
        "\n",
        "\n",
        "\n",
        "1. размерность входа: 3x224x224 \n",
        "2.размерности после слоя:  8x111x111\n",
        "3. 16x54x54\n",
        "4. 32x26x26\n",
        "5. 64x12x12\n",
        "6. выход: 96x5x5\n"
      ]
    },
    {
      "cell_type": "code",
      "metadata": {
        "id": "1PJcWAhuji-i",
        "colab_type": "code",
        "colab": {}
      },
      "source": [
        "# Очень простая сеть\n",
        "class SimpleCnn(nn.Module):\n",
        "  \n",
        "    def __init__(self, n_classes):\n",
        "        super().__init__()\n",
        "        self.conv1 = nn.Sequential(\n",
        "            nn.Conv2d(in_channels=3, out_channels=8, kernel_size=3),\n",
        "            nn.ReLU(),\n",
        "            nn.MaxPool2d(kernel_size=2)\n",
        "        )\n",
        "        self.conv2 = nn.Sequential(\n",
        "            nn.Conv2d(in_channels=8, out_channels=16, kernel_size=3),\n",
        "            nn.ReLU(),\n",
        "            nn.MaxPool2d(kernel_size=2)\n",
        "        )\n",
        "        self.conv3 = nn.Sequential(\n",
        "            nn.Conv2d(in_channels=16, out_channels=32, kernel_size=3),\n",
        "            nn.ReLU(),\n",
        "            nn.MaxPool2d(kernel_size=2)\n",
        "        )\n",
        "        self.conv4 = nn.Sequential(\n",
        "            nn.Conv2d(in_channels=32, out_channels=64, kernel_size=3),\n",
        "            nn.ReLU(),\n",
        "            nn.MaxPool2d(kernel_size=2)\n",
        "        )\n",
        "        self.conv5 = nn.Sequential(\n",
        "            nn.Conv2d(in_channels=64, out_channels=96, kernel_size=3),\n",
        "            nn.ReLU(),\n",
        "            nn.MaxPool2d(kernel_size=2)\n",
        "        )\n",
        "        \n",
        "        self.out = nn.Linear(96 * 5 * 5, n_classes)\n",
        "  \n",
        "  \n",
        "    def forward(self, x):\n",
        "        x = self.conv1(x)\n",
        "        x = self.conv2(x)\n",
        "        x = self.conv3(x)\n",
        "        x = self.conv4(x)\n",
        "        x = self.conv5(x)\n",
        "\n",
        "        x = x.view(x.size(0), -1)\n",
        "        logits = self.out(x)\n",
        "        return logits"
      ],
      "execution_count": 0,
      "outputs": []
    },
    {
      "cell_type": "code",
      "metadata": {
        "id": "e2mk7MNtcUhJ",
        "colab_type": "code",
        "colab": {}
      },
      "source": [
        "def fit_epoch(model, train_loader, criterion, optimizer):\n",
        "    running_loss = 0.0\n",
        "    running_corrects = 0\n",
        "    processed_data = 0\n",
        "  \n",
        "    for inputs, labels in train_loader:\n",
        "        inputs = inputs.to(DEVICE)\n",
        "        labels = labels.to(DEVICE)\n",
        "        optimizer.zero_grad()\n",
        "\n",
        "        outputs = model(inputs)\n",
        "        loss = criterion(outputs, labels)\n",
        "        loss.backward()\n",
        "        optimizer.step()\n",
        "        preds = torch.argmax(outputs, 1)\n",
        "        running_loss += loss.item() * inputs.size(0)\n",
        "        running_corrects += torch.sum(preds == labels.data)\n",
        "        processed_data += inputs.size(0)\n",
        "              \n",
        "    train_loss = running_loss / processed_data\n",
        "    train_acc = running_corrects.cpu().numpy() / processed_data\n",
        "    return train_loss, train_acc"
      ],
      "execution_count": 0,
      "outputs": []
    },
    {
      "cell_type": "code",
      "metadata": {
        "id": "w_CD9--hcUjs",
        "colab_type": "code",
        "colab": {}
      },
      "source": [
        "def eval_epoch(model, val_loader, criterion):\n",
        "    model.eval()\n",
        "    running_loss = 0.0\n",
        "    running_corrects = 0\n",
        "    processed_size = 0\n",
        "\n",
        "    for inputs, labels in val_loader:\n",
        "        inputs = inputs.to(DEVICE)\n",
        "        labels = labels.to(DEVICE)\n",
        "\n",
        "        with torch.set_grad_enabled(False):\n",
        "            outputs = model(inputs)\n",
        "            loss = criterion(outputs, labels)\n",
        "            preds = torch.argmax(outputs, 1)\n",
        "\n",
        "        running_loss += loss.item() * inputs.size(0)\n",
        "        running_corrects += torch.sum(preds == labels.data)\n",
        "        processed_size += inputs.size(0)\n",
        "    val_loss = running_loss / processed_size\n",
        "    val_acc = running_corrects.double() / processed_size\n",
        "    return val_loss, val_acc"
      ],
      "execution_count": 0,
      "outputs": []
    },
    {
      "cell_type": "code",
      "metadata": {
        "id": "NaxYIwB3cUmX",
        "colab_type": "code",
        "colab": {}
      },
      "source": [
        "def train(train_files, val_files, model, epochs, batch_size):\n",
        "    train_loader = DataLoader(train_dataset, batch_size=batch_size, shuffle=True)\n",
        "    val_loader = DataLoader(val_dataset, batch_size=batch_size, shuffle=False)\n",
        "\n",
        "    history = []\n",
        "    log_template = \"\\nEpoch {ep:03d} train_loss: {t_loss:0.4f} \\\n",
        "    val_loss {v_loss:0.4f} train_acc {t_acc:0.4f} val_acc {v_acc:0.4f}\"\n",
        "\n",
        "    with tqdm(desc=\"epoch\", total=epochs) as pbar_outer:\n",
        "        opt = torch.optim.Adam(model.parameters())\n",
        "        criterion = nn.CrossEntropyLoss()\n",
        "\n",
        "        for epoch in range(epochs):\n",
        "            train_loss, train_acc = fit_epoch(model, train_loader, criterion, opt)\n",
        "            print(\"loss\", train_loss)\n",
        "            \n",
        "            val_loss, val_acc = eval_epoch(model, val_loader, criterion)\n",
        "            history.append((train_loss, train_acc, val_loss, val_acc))\n",
        "            \n",
        "            pbar_outer.update(1)\n",
        "            tqdm.write(log_template.format(ep=epoch+1, t_loss=train_loss,\\\n",
        "                                           v_loss=val_loss, t_acc=train_acc, v_acc=val_acc))\n",
        "            \n",
        "    return history"
      ],
      "execution_count": 0,
      "outputs": []
    },
    {
      "cell_type": "code",
      "metadata": {
        "id": "v6G7qbYqcUpL",
        "colab_type": "code",
        "colab": {}
      },
      "source": [
        "def predict(model, test_loader):\n",
        "    with torch.no_grad():\n",
        "        logits = []\n",
        "    \n",
        "        for inputs in test_loader:\n",
        "            inputs = inputs.to(DEVICE)\n",
        "            model.eval()\n",
        "            outputs = model(inputs).cpu()\n",
        "            logits.append(outputs)\n",
        "            \n",
        "    probs = nn.functional.softmax(torch.cat(logits), dim=-1).numpy()\n",
        "    return probs"
      ],
      "execution_count": 0,
      "outputs": []
    },
    {
      "cell_type": "code",
      "metadata": {
        "id": "yzwhB4K3dQOC",
        "colab_type": "code",
        "colab": {}
      },
      "source": [
        "n_classes = len(np.unique(train_val_labels))\n",
        "simple_cnn = SimpleCnn(n_classes).to(DEVICE)\n",
        "print(\"we will classify :{}\".format(n_classes))\n",
        "print(simple_cnn)"
      ],
      "execution_count": 0,
      "outputs": []
    },
    {
      "cell_type": "markdown",
      "metadata": {
        "id": "bo3UND5RdgVg",
        "colab_type": "text"
      },
      "source": [
        "Запустим обучение сети."
      ]
    },
    {
      "cell_type": "code",
      "metadata": {
        "id": "WDkcxZ1kfD4a",
        "colab_type": "code",
        "colab": {}
      },
      "source": [
        "if val_dataset is None:\n",
        "    val_dataset = SimpsonsDataset(val_files, mode='val')\n",
        "    \n",
        "train_dataset = SimpsonsDataset(train_files, mode='train')"
      ],
      "execution_count": 0,
      "outputs": []
    },
    {
      "cell_type": "code",
      "metadata": {
        "id": "iDXoR8PIdfLD",
        "colab_type": "code",
        "colab": {}
      },
      "source": [
        "history = train(train_dataset, val_dataset, model=simple_cnn, epochs=2, batch_size=64)"
      ],
      "execution_count": 0,
      "outputs": []
    },
    {
      "cell_type": "markdown",
      "metadata": {
        "id": "7qMAdL_BduXZ",
        "colab_type": "text"
      },
      "source": [
        "Построим кривые обучения"
      ]
    },
    {
      "cell_type": "code",
      "metadata": {
        "id": "2ryD_9yFdfNr",
        "colab_type": "code",
        "colab": {}
      },
      "source": [
        "loss, acc, val_loss, val_acc = zip(*history)"
      ],
      "execution_count": 0,
      "outputs": []
    },
    {
      "cell_type": "code",
      "metadata": {
        "id": "GpQDWGkfdfQ5",
        "colab_type": "code",
        "colab": {}
      },
      "source": [
        "plt.figure(figsize=(15, 9))\n",
        "plt.plot(loss, label=\"train_loss\")\n",
        "plt.plot(val_loss, label=\"val_loss\")\n",
        "plt.legend(loc='best')\n",
        "plt.xlabel(\"epochs\")\n",
        "plt.ylabel(\"loss\")\n",
        "plt.show()"
      ],
      "execution_count": 0,
      "outputs": []
    },
    {
      "cell_type": "markdown",
      "metadata": {
        "id": "Gr9lRCJNNDfD",
        "colab_type": "text"
      },
      "source": [
        "### Ну и что теперь со всем этим делать?"
      ]
    },
    {
      "cell_type": "markdown",
      "metadata": {
        "id": "DSe0nQ-dJ8uy",
        "colab_type": "text"
      },
      "source": [
        "![alt text](https://www.indiewire.com/wp-content/uploads/2014/08/the-simpsons.jpg)"
      ]
    },
    {
      "cell_type": "markdown",
      "metadata": {
        "id": "y5k0UGeTNaQX",
        "colab_type": "text"
      },
      "source": [
        "Хорошо бы понять, как сделать сабмит. \n",
        "У нас есть сеть и методы eval у нее, которые позволяют перевести сеть в режим предсказания. Стоит понимать, что у нашей модели на последнем слое стоит softmax, которые позволяет получить вектор вероятностей  того, что объект относится к тому или иному классу. Давайте воспользуемся этим."
      ]
    },
    {
      "cell_type": "code",
      "metadata": {
        "id": "Z8PlF6o0N9O1",
        "colab_type": "code",
        "colab": {}
      },
      "source": [
        "def predict_one_sample(model, inputs, device=DEVICE):\n",
        "    \"\"\"Предсказание, для одной картинки\"\"\"\n",
        "    with torch.no_grad():\n",
        "        inputs = inputs.to(device)\n",
        "        model.eval()\n",
        "        logit = model(inputs).cpu()\n",
        "        probs = torch.nn.functional.softmax(logit, dim=-1).numpy()\n",
        "    return probs"
      ],
      "execution_count": 0,
      "outputs": []
    },
    {
      "cell_type": "code",
      "metadata": {
        "id": "pY_OoLoVO_9V",
        "colab_type": "code",
        "colab": {}
      },
      "source": [
        "random_characters = int(np.random.uniform(0,1000))\n",
        "ex_img, true_label = val_dataset[random_characters]\n",
        "probs_im = predict_one_sample(simple_cnn, ex_img.unsqueeze(0))"
      ],
      "execution_count": 0,
      "outputs": []
    },
    {
      "cell_type": "code",
      "metadata": {
        "id": "caivVFeAN9SY",
        "colab_type": "code",
        "colab": {}
      },
      "source": [
        "idxs = list(map(int, np.random.uniform(0,1000, 20)))\n",
        "imgs = [val_dataset[id][0].unsqueeze(0) for id in idxs]\n",
        "\n",
        "probs_ims = predict(simple_cnn, imgs)"
      ],
      "execution_count": 0,
      "outputs": []
    },
    {
      "cell_type": "code",
      "metadata": {
        "id": "t-0pRdHnQQKM",
        "colab_type": "code",
        "colab": {}
      },
      "source": [
        "# pickle.load загружает объект из потока байт, т.е получаем сериализованные данные\n",
        "# rb - чтение байтовое\n",
        "label_encoder = pickle.load(open(\"label_encoder.pkl\", 'rb'))"
      ],
      "execution_count": 0,
      "outputs": []
    },
    {
      "cell_type": "code",
      "metadata": {
        "id": "GNMFc7sfQh1a",
        "colab_type": "code",
        "colab": {}
      },
      "source": [
        "y_pred = np.argmax(probs_ims,-1)\n",
        "\n",
        "actual_labels = [val_dataset[id][1] for id in idxs]\n",
        "\n",
        "preds_class = [label_encoder.classes_[i] for i in y_pred]"
      ],
      "execution_count": 0,
      "outputs": []
    },
    {
      "cell_type": "markdown",
      "metadata": {
        "id": "pxB9pfPfdCHr",
        "colab_type": "text"
      },
      "source": [
        "Сделаем классную визуализацию,  чтобы посмотреть насколько сеть уверена в своих ответах. Можете исспользовать это, чтобы отлаживать правильность вывода."
      ]
    },
    {
      "cell_type": "code",
      "metadata": {
        "id": "VVjq4EC5ZZE7",
        "colab_type": "code",
        "colab": {}
      },
      "source": [
        "import matplotlib.patches as patches\n",
        "from matplotlib.font_manager import FontProperties\n",
        "\n",
        "fig, ax = plt.subplots(nrows=3, ncols=3,figsize=(12, 12), \\\n",
        "                        sharey=True, sharex=True)\n",
        "for fig_x in ax.flatten():\n",
        "    random_characters = int(np.random.uniform(0,1000))\n",
        "    im_val, label = val_dataset[random_characters]\n",
        "    img_label = \" \".join(map(lambda x: x.capitalize(),\\\n",
        "                val_dataset.label_encoder.inverse_transform([label])[0].split('_')))\n",
        "    \n",
        "    \n",
        "\n",
        "    imshow(im_val.data.cpu(), \\\n",
        "          title=img_label,plt_ax=fig_x)\n",
        "    \n",
        "    actual_text = \"Actual : {}\".format(img_label)\n",
        "            \n",
        "    fig_x.add_patch(patches.Rectangle((0, 53),86,35,color='white'))\n",
        "    font0 = FontProperties()\n",
        "    font = font0.copy()\n",
        "    font.set_family(\"fantasy\")\n",
        "    prob_pred = predict_one_sample(simple_cnn, im_val.unsqueeze(0))\n",
        "    predicted_proba = np.max(prob_pred)*100\n",
        "    y_pred = np.argmax(prob_pred)\n",
        "    \n",
        "    predicted_label = label_encoder.classes_[y_pred]\n",
        "    predicted_label = predicted_label[:len(predicted_label)//2] + '\\n' + predicted_label[len(predicted_label)//2:]\n",
        "    predicted_text = \"{} : {:.0f}%\".format(predicted_label,predicted_proba)\n",
        "            \n",
        "    fig_x.text(1, 59, predicted_text , horizontalalignment='left', fontproperties=font,\n",
        "                    verticalalignment='top',fontsize=8, color='black',fontweight='bold')"
      ],
      "execution_count": 0,
      "outputs": []
    },
    {
      "cell_type": "code",
      "metadata": {
        "id": "tq3nMIqHeFFC",
        "colab_type": "code",
        "colab": {}
      },
      "source": [
        ""
      ],
      "execution_count": 0,
      "outputs": []
    },
    {
      "cell_type": "markdown",
      "metadata": {
        "id": "hO9OLOMqIXRV",
        "colab_type": "text"
      },
      "source": [
        "Попробуйте найти те классы, которые сеть не смогла расспознать. Изучите данную проблему, это понадобится в дальнейшем."
      ]
    },
    {
      "cell_type": "markdown",
      "metadata": {
        "id": "QEWTL6jgdh7L",
        "colab_type": "text"
      },
      "source": [
        "### Submit на Kaggle"
      ]
    },
    {
      "cell_type": "markdown",
      "metadata": {
        "id": "wrjQ6cxHIGtk",
        "colab_type": "text"
      },
      "source": [
        "![alt text](https://i.redd.it/nuaphfioz0211.jpg)"
      ]
    },
    {
      "cell_type": "code",
      "metadata": {
        "id": "9UTbU0Zbc6Hb",
        "colab_type": "code",
        "colab": {}
      },
      "source": [
        "test_dataset = SimpsonsDataset(test_files, mode=\"test\")\n",
        "test_loader = DataLoader(test_dataset, shuffle=False, batch_size=64)\n",
        "probs = predict(simple_cnn, test_loader)\n",
        "\n",
        "\n",
        "preds = label_encoder.inverse_transform(np.argmax(probs, axis=1))\n",
        "test_filenames = [path.name for path in test_dataset.files]\n"
      ],
      "execution_count": 0,
      "outputs": []
    },
    {
      "cell_type": "code",
      "metadata": {
        "id": "_rTtbV1teD2k",
        "colab_type": "code",
        "colab": {}
      },
      "source": [
        "! ls "
      ],
      "execution_count": 0,
      "outputs": []
    },
    {
      "cell_type": "code",
      "metadata": {
        "id": "yw0zZ-Hdd89s",
        "colab_type": "code",
        "colab": {}
      },
      "source": [
        "import pandas as pd\n",
        "my_submit = pd.read_csv(\"gdrive/My Drive/simpsons/data/labels.csv\")\n",
        "# my_submit = pd.DataFrame({'Image_id': test_filenames, 'Expected': preds})\n",
        "my_submit.head()"
      ],
      "execution_count": 0,
      "outputs": []
    },
    {
      "cell_type": "code",
      "metadata": {
        "id": "VIYaqa20iYTL",
        "colab_type": "code",
        "colab": {}
      },
      "source": [
        "# TODO : сделайте сабмит (это важно, если Вы не справляетесь, но дошли до этой ячейки, то сообщите в чат и Вам помогут)"
      ],
      "execution_count": 0,
      "outputs": []
    },
    {
      "cell_type": "code",
      "metadata": {
        "id": "5rdlyMKtiYe2",
        "colab_type": "code",
        "colab": {}
      },
      "source": [
        "my_submit.to_csv('gdrive/My Drive/simpsons/simple_cnn_baseline.csv', index=False)"
      ],
      "execution_count": 0,
      "outputs": []
    },
    {
      "cell_type": "markdown",
      "metadata": {
        "id": "h3M9SQZ7MuUq",
        "colab_type": "text"
      },
      "source": [
        "## Приключение?\n",
        "\n",
        "А теперь самое интересное, мы сделали простенькую сверточную сеть и смогли отправить сабмит, но получившийся скор нас явно не устраивает. Надо с этим что-то сделать. \n",
        "\n",
        "Несколько срочныйх улучшейни для нашей сети, которые наверняка пришли Вам в голову: \n",
        "\n",
        "\n",
        "*   Учим дольше и изменяем гиперпараметры сети\n",
        "*  learning rate, batch size, нормализация картинки и вот это всё\n",
        "*   Кто же так строит нейронные сети? А где пулинги и батч нормы? Надо добавлять\n",
        "*  Ну разве Адам наше все? [adamW](https://www.fast.ai/2018/07/02/adam-weight-decay/) для практика, [статейка для любителей](https://openreview.net/pdf?id=ryQu7f-RZ) (очень хороший анализ), [наши ](https://github.com/MichaelKonobeev/adashift/) эксперименты для заинтересованных.\n",
        "\n",
        "* Ну разве это deep learning? Вот ResNet и Inception, которые можно зафайнтьюнить под наши данные, вот это я понимаю (можно и обучить в колабе, а можно и [готовые](https://github.com/Cadene/pretrained-models.pytorch) скачать).\n",
        "\n",
        "* Данных не очень много, можно их аугументировать и  доучититься на новом датасете ( который уже будет состоять из, как  пример аугументации, перевернутых изображений)\n",
        "\n",
        "* Стоит подумать об ансамблях\n",
        "\n",
        "\n",
        "Надеемся,  у Вас получится!\n",
        "\n",
        "![alt text](https://pbs.twimg.com/profile_images/798904974986113024/adcQiVdV.jpg)\n"
      ]
    },
    {
      "cell_type": "code",
      "metadata": {
        "id": "GX1cMrdPPjm5",
        "colab_type": "code",
        "colab": {
          "base_uri": "https://localhost:8080/",
          "height": 378
        },
        "outputId": "cba7715c-7249-4a01-efec-dfc09cbc1eb2"
      },
      "source": [
        "import matplotlib.pyplot as plt\n",
        "import numpy as np\n",
        "\n",
        "# 1. По сути можно просто рисовать, каждая следующая точка, соединяется с предыдущей\n",
        "# list_x1 = (0,0,1,1,0,1,1,0,0.5,0.5)\n",
        "# list_y1 = (0,1,1,0,0,1,0,1,1.0,0.5)\n",
        "# plt.plot(list_x1,list_y1)\n",
        "# list_x2 = (0.5,0.5,1.0,0.5)\n",
        "# list_y2 = (0.0,0.5,0.5,0.0)\n",
        "# plt.plot(list_x2,list_y2)\n",
        "# plt.show()\n",
        "# 2. По такому же принципу выводятся точки, можно вывести в одном графике разные точки\n",
        "# plt.scatter([0,1,2,3,4,5],[5,5,5,5,5,5])\n",
        "# plt.scatter([0,1,2,3,4,5],[4,4,3,3,4,4])\n",
        "# plt.scatter([0,1,2,3,4,5],[2,2,2,2,2,2])\n",
        "# plt.show()\n",
        "# 3. Построение гистограммы width-ширина колонки, за счет указания разного Х идет наложение \n",
        "# plt.bar([0.9,1.9,2.9],[15,25,15],width=0.3)\n",
        "# plt.bar([1.1,2.1,3.2],[10,20,5],width=0.3)\n",
        "# # горизонтальный бар\n",
        "# # plt.barh([1,2,3],[10,20,5])\n",
        "# plt.show()\n",
        "# Круговые диаграммы pie(пирог)\n",
        "# plt.pie([100,10,20])\n",
        "# plt.show()\n",
        "# 4. создаем экземпляр класса фигара и указываем цвет\n",
        "# fig = plt.figure(figsize=[12,5])\n",
        "# fig.set_facecolor(\"green\")\n",
        "# # 1 строка, 2 колонки, номер позиции в данном положении, т.е. 1 из 4 \n",
        "# ax1 = fig.add_subplot(1,2,1)\n",
        "# ax1.set(facecolor = \"red\")\n",
        "# ax1.set_xlim(-5,5)\n",
        "# ax1.set_ylim(-10,10)\n",
        "# ax1.set_title(\"Заголовок таблицы\")\n",
        "# ax1.set_xlabel(\"Ось Х\")\n",
        "# ax1.set_ylabel(\"Ось У\")\n",
        "# ax2 = fig.add_subplot(1,2,2)\n",
        "# ax2.set(facecolor = \"blue\")\n",
        "# ax2.title.set_color(\"white\")\n",
        "# ax2.set_title(\"Второй график\", size=25)\n",
        "# plt.show()\n",
        "# 5. точки и линии\n",
        "# fig = plt.figure()\n",
        "# ax = fig.add_subplot(1,1,1)\n",
        "# ax.plot([1,2,8,9],[1,2,8,4],linewidth=2)\n",
        "# ax.scatter([4,1,2,8,9],[5,1,2,8,4], color=\"red\", marker =\"*\")\n",
        "# plt.show()\n",
        "# 6.1 варианты разбивки области\n",
        "# первое - количество строк;второе - количество столбцовтретье - индекс ячейки.\n",
        "# ax1 = fig.add_subplot(2,2,1)\n",
        "# ax2 = fig.add_subplot(2,2,2)\n",
        "# ax3 = fig.add_subplot(2,2,4)\n",
        "# # xticks=[1,2],yti(cks=[] - устанавливают координаты по Х и У\n",
        "# ax1.set(title=\"ax1\",xticks=[1,2],yticks=[])\n",
        "# ax2.set(title=\"ax2\",xticks=[],yticks=[])\n",
        "# ax3.set(title=\"ax 3\")\n",
        "# plt.show()\n",
        "# 6.2 картинка в картинке\n",
        "# fig = plt.figure()\n",
        "# ax1 = fig.add_subplot(1,1,1)\n",
        "# ax2 = fig.add_subplot(3,3,3)\n",
        "# ax1.set(xticks=[],yticks=[])\n",
        "# ax2.set(xticks=[],yticks=[])\n",
        "# plt.show()\n",
        "# 6.3 сетка из картинок\n",
        "# fig, axes = plt.subplots(2,2)\n",
        "# # если без данных, то создается один элемент axes сам элемент\n",
        "# # fig, axes = plt.subplots()\n",
        "# # flat - поэлементно перебрать весь массив, как если бы он был 1 элементым\n",
        "# for _,ax in enumerate(axes.flat):\n",
        "#   ax.set(title=\"ax\"+str(_), xticks=[],yticks=[])\n",
        "# plt.show()\n",
        "\n",
        "# 7. plot - график линии\n",
        "x = np.zeros(8)\n",
        "fig, ax = plt.subplots()\n",
        "# type(ax)\n",
        "ax.plot(x, color = (0.9, 0.2, 0.9)) # RGB от 0 до 1\n",
        "ax.plot(x + 1, color = '#0a0b0c') # hex RGB:\n",
        "ax.plot(x + 2, color = '#0a0b0c3a') # hex RGBA:\n",
        "ax.plot(x + 4, color = 'g') # ключ цвета из {'b', 'g', 'r', 'c', 'm', 'y', 'k', 'w'}:\n",
        "ax.plot(x + 5, color = 'indigo') # название цвета из X11/CSS4:\n",
        "ax.plot(np.arange(-1, 7), color = (0.1, 0.2, 0.9, 0.5), linewidth = 12) # RGBA:\n",
        "# ширина и высота фигуры в дюймах\n",
        "fig.set_figwidth(12)\n",
        "fig.set_figheight(6)\n",
        "fig.set_facecolor(\"#c4a43d\")\n",
        "\n",
        "# fig, ax = plt.subplots(nrows=3, ncols=3,figsize=(8, 8), sharey=True, sharex=True)\n",
        "\n",
        "# for fig_x in ax.flatten():\n",
        "#     random_characters = int(np.random.uniform(0,1000))\n",
        "#     im_val, label = val_dataset[random_characters]\n",
        "#     img_label = \" \".join(map(lambda x: x.capitalize(),\\\n",
        "#                 val_dataset.label_encoder.inverse_transform([label])[0].split('_')))\n",
        "#     imshow(im_val.data.cpu(), \\\n",
        "#           title=img_label,plt_ax=fig_x)\n",
        "    \n",
        "# def imshow(inp, title=None, plt_ax=plt, default=False):\n",
        "#     \"\"\"Imshow для тензоров\"\"\"\n",
        "#     inp = inp.numpy().transpose((1, 2, 0))\n",
        "#     mean = np.array([0.485, 0.456, 0.406])\n",
        "#     std = np.array([0.229, 0.224, 0.225])\n",
        "#     inp = std * inp + mean\n",
        "#     inp = np.clip(inp, 0, 1)\n",
        "#     plt_ax.imshow(inp)\n",
        "#     if title is not None:\n",
        "#         plt_ax.set_title(title)\n",
        "#     plt_ax.grid(False)"
      ],
      "execution_count": 52,
      "outputs": [
        {
          "output_type": "display_data",
          "data": {
            "image/png": "[encoded data removed]",
            "text/plain": [
              "<Figure size 864x432 with 1 Axes>"
            ]
          },
          "metadata": {
            "tags": []
          }
        }
      ]
    },
    {
      "cell_type": "code",
      "metadata": {
        "id": "_qZvyKTeJ7qD",
        "colab_type": "code",
        "colab": {}
      },
      "source": [
        "# import torch\n",
        "# from torch.nn import Linear\n",
        "\n",
        "# # пример получения весов\n",
        "# neuron = torch.nn.Sequential(\n",
        "#     Linear(1, 2),\n",
        "#     Linear(2, 1),    \n",
        "# )\n",
        "\n",
        "# for p in neuron.parameters():        \n",
        "#   print(type(p))\n",
        "#   print(p.data)\n",
        "#   print(p.requires_grad)"
      ],
      "execution_count": 0,
      "outputs": []
    }
  ]
}